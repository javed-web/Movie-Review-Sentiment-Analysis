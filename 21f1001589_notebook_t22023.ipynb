{
  "cells": [
    {
      "cell_type": "markdown",
      "metadata": {
        "id": "view-in-github",
        "colab_type": "text"
      },
      "source": [
        "<a href=\"https://colab.research.google.com/github/javed-web/Movie-Review-Sentiment-Analysis/blob/main/21f1001589_notebook_t22023.ipynb\" target=\"_parent\"><img src=\"https://colab.research.google.com/assets/colab-badge.svg\" alt=\"Open In Colab\"/></a>"
      ]
    },
    {
      "cell_type": "code",
      "execution_count": null,
      "id": "88bbf656",
      "metadata": {
        "_cell_guid": "b1076dfc-b9ad-4769-8c92-a6c4dae69d19",
        "_uuid": "8f2839f25d086af736a60e9eeb907d3b93b6e0e5",
        "execution": {
          "iopub.execute_input": "2023-08-13T16:38:09.854296Z",
          "iopub.status.busy": "2023-08-13T16:38:09.853880Z",
          "iopub.status.idle": "2023-08-13T16:38:09.873771Z",
          "shell.execute_reply": "2023-08-13T16:38:09.872962Z"
        },
        "papermill": {
          "duration": 0.041166,
          "end_time": "2023-08-13T16:38:09.875890",
          "exception": false,
          "start_time": "2023-08-13T16:38:09.834724",
          "status": "completed"
        },
        "tags": [],
        "id": "88bbf656",
        "outputId": "e54181dd-4bd1-4c4a-9438-610e4f7d6ecb"
      },
      "outputs": [
        {
          "name": "stdout",
          "output_type": "stream",
          "text": [
            "/kaggle/input/sentiment-prediction-on-movie-reviews/movies.csv\n",
            "/kaggle/input/sentiment-prediction-on-movie-reviews/sample.csv\n",
            "/kaggle/input/sentiment-prediction-on-movie-reviews/train.csv\n",
            "/kaggle/input/sentiment-prediction-on-movie-reviews/test.csv\n"
          ]
        }
      ],
      "source": [
        "# This Python 3 environment comes with many helpful analytics libraries installed\n",
        "# It is defined by the kaggle/python Docker image: https://github.com/kaggle/docker-python\n",
        "# For example, here's several helpful packages to load\n",
        "\n",
        "import numpy as np # linear algebra\n",
        "import pandas as pd # data processing, CSV file I/O (e.g. pd.read_csv)\n",
        "\n",
        "# Input data files are available in the read-only \"../input/\" directory\n",
        "# For example, running this (by clicking run or pressing Shift+Enter) will list all files under the input directory\n",
        "\n",
        "import os\n",
        "for dirname, _, filenames in os.walk('/kaggle/input'):\n",
        "    for filename in filenames:\n",
        "        print(os.path.join(dirname, filename))\n",
        "\n",
        "# You can write up to 20GB to the current directory (/kaggle/working/) that gets preserved as output when you create a version using \"Save & Run All\"\n",
        "# You can also write temporary files to /kaggle/temp/, but they won't be saved outside of the current session"
      ]
    },
    {
      "cell_type": "code",
      "execution_count": null,
      "id": "91437b20",
      "metadata": {
        "execution": {
          "iopub.execute_input": "2023-08-13T16:38:09.912839Z",
          "iopub.status.busy": "2023-08-13T16:38:09.912387Z",
          "iopub.status.idle": "2023-08-13T16:38:11.689984Z",
          "shell.execute_reply": "2023-08-13T16:38:11.688576Z"
        },
        "papermill": {
          "duration": 1.799488,
          "end_time": "2023-08-13T16:38:11.692927",
          "exception": false,
          "start_time": "2023-08-13T16:38:09.893439",
          "status": "completed"
        },
        "tags": [],
        "id": "91437b20"
      },
      "outputs": [],
      "source": [
        "from sklearn.pipeline import Pipeline, make_pipeline\n",
        "from sklearn.compose import ColumnTransformer\n",
        "from sklearn.preprocessing import OrdinalEncoder, StandardScaler\n",
        "from sklearn.feature_extraction.text import TfidfVectorizer\n",
        "from sklearn.metrics import f1_score\n",
        "from sklearn.model_selection import train_test_split\n",
        "import re, string, ast\n",
        "import matplotlib.pyplot as plt\n",
        "import seaborn as sns\n",
        "\n",
        "#import xgboost as xgb\n",
        "from sklearn.linear_model import LogisticRegression\n",
        "#from sklearn.ensemble import GradientBoostingClassifier\n",
        "#from sklearn.ensemble import RandomForestClassifier"
      ]
    },
    {
      "cell_type": "markdown",
      "id": "389421ef",
      "metadata": {
        "papermill": {
          "duration": 0.016798,
          "end_time": "2023-08-13T16:38:11.727397",
          "exception": false,
          "start_time": "2023-08-13T16:38:11.710599",
          "status": "completed"
        },
        "tags": [],
        "id": "389421ef"
      },
      "source": [
        "# Data Loading, Exploration"
      ]
    },
    {
      "cell_type": "code",
      "execution_count": null,
      "id": "4011ed78",
      "metadata": {
        "execution": {
          "iopub.execute_input": "2023-08-13T16:38:11.763103Z",
          "iopub.status.busy": "2023-08-13T16:38:11.762687Z",
          "iopub.status.idle": "2023-08-13T16:38:14.536554Z",
          "shell.execute_reply": "2023-08-13T16:38:14.535332Z"
        },
        "papermill": {
          "duration": 2.795133,
          "end_time": "2023-08-13T16:38:14.539513",
          "exception": false,
          "start_time": "2023-08-13T16:38:11.744380",
          "status": "completed"
        },
        "tags": [],
        "id": "4011ed78"
      },
      "outputs": [],
      "source": [
        "data1 = pd.read_csv(\"/kaggle/input/sentiment-prediction-on-movie-reviews/train.csv\")\n",
        "data2 = pd.read_csv(\"/kaggle/input/sentiment-prediction-on-movie-reviews/movies.csv\")"
      ]
    },
    {
      "cell_type": "code",
      "execution_count": null,
      "id": "5ab2acd0",
      "metadata": {
        "execution": {
          "iopub.execute_input": "2023-08-13T16:38:14.578082Z",
          "iopub.status.busy": "2023-08-13T16:38:14.575791Z",
          "iopub.status.idle": "2023-08-13T16:38:14.614020Z",
          "shell.execute_reply": "2023-08-13T16:38:14.612995Z"
        },
        "papermill": {
          "duration": 0.060044,
          "end_time": "2023-08-13T16:38:14.616860",
          "exception": false,
          "start_time": "2023-08-13T16:38:14.556816",
          "status": "completed"
        },
        "tags": [],
        "id": "5ab2acd0",
        "outputId": "872f845d-89f7-4a5e-fec8-e313bac63bae"
      },
      "outputs": [
        {
          "data": {
            "text/html": [
              "<div>\n",
              "<style scoped>\n",
              "    .dataframe tbody tr th:only-of-type {\n",
              "        vertical-align: middle;\n",
              "    }\n",
              "\n",
              "    .dataframe tbody tr th {\n",
              "        vertical-align: top;\n",
              "    }\n",
              "\n",
              "    .dataframe thead th {\n",
              "        text-align: right;\n",
              "    }\n",
              "</style>\n",
              "<table border=\"1\" class=\"dataframe\">\n",
              "  <thead>\n",
              "    <tr style=\"text-align: right;\">\n",
              "      <th></th>\n",
              "      <th>movieid</th>\n",
              "      <th>reviewerName</th>\n",
              "      <th>isFrequentReviewer</th>\n",
              "      <th>reviewText</th>\n",
              "      <th>sentiment</th>\n",
              "    </tr>\n",
              "  </thead>\n",
              "  <tbody>\n",
              "    <tr>\n",
              "      <th>0</th>\n",
              "      <td>marvelous_pirate</td>\n",
              "      <td>Benjamin Henry</td>\n",
              "      <td>False</td>\n",
              "      <td>Henry Selick’s first movie since 2009’s Corali...</td>\n",
              "      <td>POSITIVE</td>\n",
              "    </tr>\n",
              "    <tr>\n",
              "      <th>1</th>\n",
              "      <td>tony_montana_frodo_baggins_v_rocky_balboa</td>\n",
              "      <td>Felicia Lopez</td>\n",
              "      <td>False</td>\n",
              "      <td>With a cast that reads like the Vogue Oscar pa...</td>\n",
              "      <td>NEGATIVE</td>\n",
              "    </tr>\n",
              "    <tr>\n",
              "      <th>2</th>\n",
              "      <td>darth_vader_katniss_everdeen_sorcerer_donnie_d...</td>\n",
              "      <td>Mr. Charles Burgess</td>\n",
              "      <td>True</td>\n",
              "      <td>Creed II does not give us anything but another...</td>\n",
              "      <td>POSITIVE</td>\n",
              "    </tr>\n",
              "    <tr>\n",
              "      <th>3</th>\n",
              "      <td>lara_croft_glimmer</td>\n",
              "      <td>Ryan Barrett</td>\n",
              "      <td>False</td>\n",
              "      <td>I know what you're thinking, but this is no Li...</td>\n",
              "      <td>POSITIVE</td>\n",
              "    </tr>\n",
              "    <tr>\n",
              "      <th>4</th>\n",
              "      <td>jason_bourne_surreal_the_terminator_indiana_jones</td>\n",
              "      <td>Alexander Glover</td>\n",
              "      <td>False</td>\n",
              "      <td>Director Fernando Meirelles tells the story wi...</td>\n",
              "      <td>POSITIVE</td>\n",
              "    </tr>\n",
              "  </tbody>\n",
              "</table>\n",
              "</div>"
            ],
            "text/plain": [
              "                                             movieid         reviewerName  \\\n",
              "0                                   marvelous_pirate       Benjamin Henry   \n",
              "1          tony_montana_frodo_baggins_v_rocky_balboa        Felicia Lopez   \n",
              "2  darth_vader_katniss_everdeen_sorcerer_donnie_d...  Mr. Charles Burgess   \n",
              "3                                 lara_croft_glimmer         Ryan Barrett   \n",
              "4  jason_bourne_surreal_the_terminator_indiana_jones     Alexander Glover   \n",
              "\n",
              "   isFrequentReviewer                                         reviewText  \\\n",
              "0               False  Henry Selick’s first movie since 2009’s Corali...   \n",
              "1               False  With a cast that reads like the Vogue Oscar pa...   \n",
              "2                True  Creed II does not give us anything but another...   \n",
              "3               False  I know what you're thinking, but this is no Li...   \n",
              "4               False  Director Fernando Meirelles tells the story wi...   \n",
              "\n",
              "  sentiment  \n",
              "0  POSITIVE  \n",
              "1  NEGATIVE  \n",
              "2  POSITIVE  \n",
              "3  POSITIVE  \n",
              "4  POSITIVE  "
            ]
          },
          "execution_count": 4,
          "metadata": {},
          "output_type": "execute_result"
        }
      ],
      "source": [
        "# Display the first few rows of the dataset\n",
        "data1.head()"
      ]
    },
    {
      "cell_type": "code",
      "execution_count": null,
      "id": "4a090fa1",
      "metadata": {
        "execution": {
          "iopub.execute_input": "2023-08-13T16:38:14.654413Z",
          "iopub.status.busy": "2023-08-13T16:38:14.653993Z",
          "iopub.status.idle": "2023-08-13T16:38:14.659806Z",
          "shell.execute_reply": "2023-08-13T16:38:14.658750Z"
        },
        "papermill": {
          "duration": 0.027719,
          "end_time": "2023-08-13T16:38:14.662319",
          "exception": false,
          "start_time": "2023-08-13T16:38:14.634600",
          "status": "completed"
        },
        "tags": [],
        "id": "4a090fa1",
        "outputId": "b9300393-15eb-4934-bcbb-f6c6f4c5c94a"
      },
      "outputs": [
        {
          "name": "stdout",
          "output_type": "stream",
          "text": [
            "(162758, 5)\n"
          ]
        }
      ],
      "source": [
        "print(data1.shape)"
      ]
    },
    {
      "cell_type": "code",
      "execution_count": null,
      "id": "9ea2b955",
      "metadata": {
        "execution": {
          "iopub.execute_input": "2023-08-13T16:38:14.699121Z",
          "iopub.status.busy": "2023-08-13T16:38:14.698707Z",
          "iopub.status.idle": "2023-08-13T16:38:14.935434Z",
          "shell.execute_reply": "2023-08-13T16:38:14.934002Z"
        },
        "papermill": {
          "duration": 0.258154,
          "end_time": "2023-08-13T16:38:14.938022",
          "exception": false,
          "start_time": "2023-08-13T16:38:14.679868",
          "status": "completed"
        },
        "tags": [],
        "id": "9ea2b955",
        "outputId": "dfc8bf90-fcd3-4da9-adb0-78500d6427ba"
      },
      "outputs": [
        {
          "name": "stdout",
          "output_type": "stream",
          "text": [
            "<class 'pandas.core.frame.DataFrame'>\n",
            "RangeIndex: 162758 entries, 0 to 162757\n",
            "Data columns (total 5 columns):\n",
            " #   Column              Non-Null Count   Dtype \n",
            "---  ------              --------------   ----- \n",
            " 0   movieid             162758 non-null  object\n",
            " 1   reviewerName        162758 non-null  object\n",
            " 2   isFrequentReviewer  162758 non-null  bool  \n",
            " 3   reviewText          156311 non-null  object\n",
            " 4   sentiment           162758 non-null  object\n",
            "dtypes: bool(1), object(4)\n",
            "memory usage: 5.1+ MB\n",
            "None\n"
          ]
        }
      ],
      "source": [
        "# Check data types\n",
        "print(data1.info())"
      ]
    },
    {
      "cell_type": "code",
      "execution_count": null,
      "id": "9be2545a",
      "metadata": {
        "execution": {
          "iopub.execute_input": "2023-08-13T16:38:14.976218Z",
          "iopub.status.busy": "2023-08-13T16:38:14.975813Z",
          "iopub.status.idle": "2023-08-13T16:38:14.982642Z",
          "shell.execute_reply": "2023-08-13T16:38:14.981603Z"
        },
        "papermill": {
          "duration": 0.028851,
          "end_time": "2023-08-13T16:38:14.984975",
          "exception": false,
          "start_time": "2023-08-13T16:38:14.956124",
          "status": "completed"
        },
        "tags": [],
        "id": "9be2545a",
        "outputId": "8be3376b-36cb-4b7d-8c1c-469d6c1417c5"
      },
      "outputs": [
        {
          "data": {
            "text/plain": [
              "(143258, 14)"
            ]
          },
          "execution_count": 7,
          "metadata": {},
          "output_type": "execute_result"
        }
      ],
      "source": [
        "data2.shape"
      ]
    },
    {
      "cell_type": "code",
      "execution_count": null,
      "id": "7ad7d9d1",
      "metadata": {
        "execution": {
          "iopub.execute_input": "2023-08-13T16:38:15.022804Z",
          "iopub.status.busy": "2023-08-13T16:38:15.021957Z",
          "iopub.status.idle": "2023-08-13T16:38:15.085223Z",
          "shell.execute_reply": "2023-08-13T16:38:15.083921Z"
        },
        "papermill": {
          "duration": 0.085186,
          "end_time": "2023-08-13T16:38:15.087968",
          "exception": false,
          "start_time": "2023-08-13T16:38:15.002782",
          "status": "completed"
        },
        "tags": [],
        "id": "7ad7d9d1"
      },
      "outputs": [],
      "source": [
        "# Drop the duplicates in data2\n",
        "data2.drop_duplicates(subset=['movieid'], inplace=True)"
      ]
    },
    {
      "cell_type": "code",
      "execution_count": null,
      "id": "022bc4dc",
      "metadata": {
        "execution": {
          "iopub.execute_input": "2023-08-13T16:38:15.125945Z",
          "iopub.status.busy": "2023-08-13T16:38:15.125495Z",
          "iopub.status.idle": "2023-08-13T16:38:15.132398Z",
          "shell.execute_reply": "2023-08-13T16:38:15.131260Z"
        },
        "papermill": {
          "duration": 0.028724,
          "end_time": "2023-08-13T16:38:15.134908",
          "exception": false,
          "start_time": "2023-08-13T16:38:15.106184",
          "status": "completed"
        },
        "tags": [],
        "id": "022bc4dc",
        "outputId": "b8f5dcd2-9053-4407-ed68-90eafe29a8f3"
      },
      "outputs": [
        {
          "data": {
            "text/plain": [
              "(126404, 14)"
            ]
          },
          "execution_count": 9,
          "metadata": {},
          "output_type": "execute_result"
        }
      ],
      "source": [
        "data2.shape # 16,854 Duplicates were dropped"
      ]
    },
    {
      "cell_type": "code",
      "execution_count": null,
      "id": "0e3cd487",
      "metadata": {
        "execution": {
          "iopub.execute_input": "2023-08-13T16:38:15.172907Z",
          "iopub.status.busy": "2023-08-13T16:38:15.172472Z",
          "iopub.status.idle": "2023-08-13T16:38:15.194012Z",
          "shell.execute_reply": "2023-08-13T16:38:15.192665Z"
        },
        "papermill": {
          "duration": 0.043627,
          "end_time": "2023-08-13T16:38:15.196504",
          "exception": false,
          "start_time": "2023-08-13T16:38:15.152877",
          "status": "completed"
        },
        "tags": [],
        "id": "0e3cd487",
        "outputId": "283d01d4-7bcb-4998-eb5c-612c33b2bc1d"
      },
      "outputs": [
        {
          "data": {
            "text/html": [
              "<div>\n",
              "<style scoped>\n",
              "    .dataframe tbody tr th:only-of-type {\n",
              "        vertical-align: middle;\n",
              "    }\n",
              "\n",
              "    .dataframe tbody tr th {\n",
              "        vertical-align: top;\n",
              "    }\n",
              "\n",
              "    .dataframe thead th {\n",
              "        text-align: right;\n",
              "    }\n",
              "</style>\n",
              "<table border=\"1\" class=\"dataframe\">\n",
              "  <thead>\n",
              "    <tr style=\"text-align: right;\">\n",
              "      <th></th>\n",
              "      <th>movieid</th>\n",
              "      <th>title</th>\n",
              "      <th>audienceScore</th>\n",
              "      <th>rating</th>\n",
              "      <th>ratingContents</th>\n",
              "      <th>releaseDateTheaters</th>\n",
              "      <th>releaseDateStreaming</th>\n",
              "      <th>runtimeMinutes</th>\n",
              "      <th>genre</th>\n",
              "      <th>originalLanguage</th>\n",
              "      <th>director</th>\n",
              "      <th>boxOffice</th>\n",
              "      <th>distributor</th>\n",
              "      <th>soundType</th>\n",
              "    </tr>\n",
              "  </thead>\n",
              "  <tbody>\n",
              "    <tr>\n",
              "      <th>0</th>\n",
              "      <td>han_solo_heroic_myth_wonder_woman</td>\n",
              "      <td>Han Solo Heroic Myth Wonder Woman</td>\n",
              "      <td>50.0</td>\n",
              "      <td>NaN</td>\n",
              "      <td>NaN</td>\n",
              "      <td>NaN</td>\n",
              "      <td>2018-08-25</td>\n",
              "      <td>75.0</td>\n",
              "      <td>Comedy, Horror, Sci-fi</td>\n",
              "      <td>English</td>\n",
              "      <td>Claude Nicolet</td>\n",
              "      <td>NaN</td>\n",
              "      <td>NaN</td>\n",
              "      <td>NaN</td>\n",
              "    </tr>\n",
              "    <tr>\n",
              "      <th>1</th>\n",
              "      <td>voyage_tyler_durden_han_solo_stardust</td>\n",
              "      <td>Voyage Tyler Durden Han Solo Stardust</td>\n",
              "      <td>NaN</td>\n",
              "      <td>NaN</td>\n",
              "      <td>NaN</td>\n",
              "      <td>NaN</td>\n",
              "      <td>2020-02-11</td>\n",
              "      <td>114.0</td>\n",
              "      <td>Drama</td>\n",
              "      <td>English</td>\n",
              "      <td>Nathan Haack</td>\n",
              "      <td>NaN</td>\n",
              "      <td>NaN</td>\n",
              "      <td>NaN</td>\n",
              "    </tr>\n",
              "    <tr>\n",
              "      <th>2</th>\n",
              "      <td>norman_bates_ferris_bueller_hermione_granger_v...</td>\n",
              "      <td>Norman Bates Ferris Bueller Hermione Granger V...</td>\n",
              "      <td>43.0</td>\n",
              "      <td>NaN</td>\n",
              "      <td>NaN</td>\n",
              "      <td>NaN</td>\n",
              "      <td>NaN</td>\n",
              "      <td>120.0</td>\n",
              "      <td>Drama</td>\n",
              "      <td>Korean</td>\n",
              "      <td>Theresa Smith</td>\n",
              "      <td>NaN</td>\n",
              "      <td>NaN</td>\n",
              "      <td>NaN</td>\n",
              "    </tr>\n",
              "    <tr>\n",
              "      <th>3</th>\n",
              "      <td>elegant_hermione_granger</td>\n",
              "      <td>Elegant Hermione Granger</td>\n",
              "      <td>60.0</td>\n",
              "      <td>NaN</td>\n",
              "      <td>NaN</td>\n",
              "      <td>NaN</td>\n",
              "      <td>2020-10-23</td>\n",
              "      <td>90.0</td>\n",
              "      <td>Action, Mystery &amp; thriller</td>\n",
              "      <td>English</td>\n",
              "      <td>Donald Lewis</td>\n",
              "      <td>NaN</td>\n",
              "      <td>NaN</td>\n",
              "      <td>NaN</td>\n",
              "    </tr>\n",
              "    <tr>\n",
              "      <th>4</th>\n",
              "      <td>adventure_rocky_balboa</td>\n",
              "      <td>Adventure Rocky Balboa</td>\n",
              "      <td>70.0</td>\n",
              "      <td>NaN</td>\n",
              "      <td>NaN</td>\n",
              "      <td>NaN</td>\n",
              "      <td>2017-03-27</td>\n",
              "      <td>80.0</td>\n",
              "      <td>Fantasy, Adventure, Animation</td>\n",
              "      <td>English</td>\n",
              "      <td>Howard Simms</td>\n",
              "      <td>NaN</td>\n",
              "      <td>NaN</td>\n",
              "      <td>NaN</td>\n",
              "    </tr>\n",
              "  </tbody>\n",
              "</table>\n",
              "</div>"
            ],
            "text/plain": [
              "                                             movieid  \\\n",
              "0                  han_solo_heroic_myth_wonder_woman   \n",
              "1              voyage_tyler_durden_han_solo_stardust   \n",
              "2  norman_bates_ferris_bueller_hermione_granger_v...   \n",
              "3                           elegant_hermione_granger   \n",
              "4                             adventure_rocky_balboa   \n",
              "\n",
              "                                               title  audienceScore rating  \\\n",
              "0                  Han Solo Heroic Myth Wonder Woman           50.0    NaN   \n",
              "1              Voyage Tyler Durden Han Solo Stardust            NaN    NaN   \n",
              "2  Norman Bates Ferris Bueller Hermione Granger V...           43.0    NaN   \n",
              "3                           Elegant Hermione Granger           60.0    NaN   \n",
              "4                             Adventure Rocky Balboa           70.0    NaN   \n",
              "\n",
              "  ratingContents releaseDateTheaters releaseDateStreaming  runtimeMinutes  \\\n",
              "0            NaN                 NaN           2018-08-25            75.0   \n",
              "1            NaN                 NaN           2020-02-11           114.0   \n",
              "2            NaN                 NaN                  NaN           120.0   \n",
              "3            NaN                 NaN           2020-10-23            90.0   \n",
              "4            NaN                 NaN           2017-03-27            80.0   \n",
              "\n",
              "                           genre originalLanguage        director boxOffice  \\\n",
              "0         Comedy, Horror, Sci-fi          English  Claude Nicolet       NaN   \n",
              "1                          Drama          English    Nathan Haack       NaN   \n",
              "2                          Drama           Korean   Theresa Smith       NaN   \n",
              "3     Action, Mystery & thriller          English    Donald Lewis       NaN   \n",
              "4  Fantasy, Adventure, Animation          English    Howard Simms       NaN   \n",
              "\n",
              "  distributor soundType  \n",
              "0         NaN       NaN  \n",
              "1         NaN       NaN  \n",
              "2         NaN       NaN  \n",
              "3         NaN       NaN  \n",
              "4         NaN       NaN  "
            ]
          },
          "execution_count": 10,
          "metadata": {},
          "output_type": "execute_result"
        }
      ],
      "source": [
        "# Display the first few rows of the dataset\n",
        "data2.head()"
      ]
    },
    {
      "cell_type": "code",
      "execution_count": null,
      "id": "1950ece3",
      "metadata": {
        "execution": {
          "iopub.execute_input": "2023-08-13T16:38:15.235659Z",
          "iopub.status.busy": "2023-08-13T16:38:15.235252Z",
          "iopub.status.idle": "2023-08-13T16:38:15.675087Z",
          "shell.execute_reply": "2023-08-13T16:38:15.673186Z"
        },
        "papermill": {
          "duration": 0.46259,
          "end_time": "2023-08-13T16:38:15.677846",
          "exception": false,
          "start_time": "2023-08-13T16:38:15.215256",
          "status": "completed"
        },
        "tags": [],
        "id": "1950ece3",
        "outputId": "07b066c6-564e-41d8-e35b-f1ab8ffecdd0"
      },
      "outputs": [
        {
          "name": "stdout",
          "output_type": "stream",
          "text": [
            "<class 'pandas.core.frame.DataFrame'>\n",
            "Int64Index: 126404 entries, 0 to 143256\n",
            "Data columns (total 14 columns):\n",
            " #   Column                Non-Null Count   Dtype  \n",
            "---  ------                --------------   -----  \n",
            " 0   movieid               126404 non-null  object \n",
            " 1   title                 126404 non-null  object \n",
            " 2   audienceScore         63714 non-null   float64\n",
            " 3   rating                11778 non-null   object \n",
            " 4   ratingContents        11778 non-null   object \n",
            " 5   releaseDateTheaters   26390 non-null   object \n",
            " 6   releaseDateStreaming  69273 non-null   object \n",
            " 7   runtimeMinutes        113910 non-null  float64\n",
            " 8   genre                 116401 non-null  object \n",
            " 9   originalLanguage      114020 non-null  object \n",
            " 10  director              126404 non-null  object \n",
            " 11  boxOffice             12528 non-null   object \n",
            " 12  distributor           19549 non-null   object \n",
            " 13  soundType             13466 non-null   object \n",
            "dtypes: float64(2), object(12)\n",
            "memory usage: 14.5+ MB\n",
            "None\n"
          ]
        }
      ],
      "source": [
        "# Check data types\n",
        "print(data2.info())"
      ]
    },
    {
      "cell_type": "code",
      "execution_count": null,
      "id": "2fe0e8f5",
      "metadata": {
        "execution": {
          "iopub.execute_input": "2023-08-13T16:38:15.717244Z",
          "iopub.status.busy": "2023-08-13T16:38:15.716009Z",
          "iopub.status.idle": "2023-08-13T16:38:15.982277Z",
          "shell.execute_reply": "2023-08-13T16:38:15.981227Z"
        },
        "papermill": {
          "duration": 0.288358,
          "end_time": "2023-08-13T16:38:15.984867",
          "exception": false,
          "start_time": "2023-08-13T16:38:15.696509",
          "status": "completed"
        },
        "tags": [],
        "id": "2fe0e8f5"
      },
      "outputs": [],
      "source": [
        "# Merge the data based on the movie ID\n",
        "data = pd.merge(data1, data2, on='movieid', how='left')"
      ]
    },
    {
      "cell_type": "code",
      "execution_count": null,
      "id": "67189c07",
      "metadata": {
        "execution": {
          "iopub.execute_input": "2023-08-13T16:38:16.023678Z",
          "iopub.status.busy": "2023-08-13T16:38:16.022840Z",
          "iopub.status.idle": "2023-08-13T16:38:16.052535Z",
          "shell.execute_reply": "2023-08-13T16:38:16.051439Z"
        },
        "papermill": {
          "duration": 0.05212,
          "end_time": "2023-08-13T16:38:16.055390",
          "exception": false,
          "start_time": "2023-08-13T16:38:16.003270",
          "status": "completed"
        },
        "tags": [],
        "id": "67189c07"
      },
      "outputs": [],
      "source": [
        "# Drop unnecessary columns\n",
        "data = data.drop(['rating', 'originalLanguage', 'runtimeMinutes','title', 'movieid', 'reviewerName', 'soundType', 'distributor', 'boxOffice', 'releaseDateStreaming', 'releaseDateTheaters'], axis=1)"
      ]
    },
    {
      "cell_type": "markdown",
      "id": "e7ec7db5",
      "metadata": {
        "papermill": {
          "duration": 0.018022,
          "end_time": "2023-08-13T16:38:16.091780",
          "exception": false,
          "start_time": "2023-08-13T16:38:16.073758",
          "status": "completed"
        },
        "tags": [],
        "id": "e7ec7db5"
      },
      "source": [
        "# Exploratory Data Analysis (EDA)"
      ]
    },
    {
      "cell_type": "code",
      "execution_count": null,
      "id": "ae0232a4",
      "metadata": {
        "execution": {
          "iopub.execute_input": "2023-08-13T16:38:16.130498Z",
          "iopub.status.busy": "2023-08-13T16:38:16.130079Z",
          "iopub.status.idle": "2023-08-13T16:38:16.136578Z",
          "shell.execute_reply": "2023-08-13T16:38:16.135491Z"
        },
        "papermill": {
          "duration": 0.028793,
          "end_time": "2023-08-13T16:38:16.138850",
          "exception": false,
          "start_time": "2023-08-13T16:38:16.110057",
          "status": "completed"
        },
        "tags": [],
        "id": "ae0232a4",
        "outputId": "eaf3b9f2-cd92-41c1-d3be-6a689bd4ede9"
      },
      "outputs": [
        {
          "data": {
            "text/plain": [
              "(162758, 7)"
            ]
          },
          "execution_count": 14,
          "metadata": {},
          "output_type": "execute_result"
        }
      ],
      "source": [
        "data.shape"
      ]
    },
    {
      "cell_type": "code",
      "execution_count": null,
      "id": "1bc2b4f2",
      "metadata": {
        "execution": {
          "iopub.execute_input": "2023-08-13T16:38:16.178201Z",
          "iopub.status.busy": "2023-08-13T16:38:16.177031Z",
          "iopub.status.idle": "2023-08-13T16:38:16.446430Z",
          "shell.execute_reply": "2023-08-13T16:38:16.444926Z"
        },
        "papermill": {
          "duration": 0.291642,
          "end_time": "2023-08-13T16:38:16.448956",
          "exception": false,
          "start_time": "2023-08-13T16:38:16.157314",
          "status": "completed"
        },
        "tags": [],
        "id": "1bc2b4f2",
        "outputId": "a4bf2df4-be41-4272-c123-9c0ef9fd00a2"
      },
      "outputs": [
        {
          "name": "stdout",
          "output_type": "stream",
          "text": [
            "<class 'pandas.core.frame.DataFrame'>\n",
            "Int64Index: 162758 entries, 0 to 162757\n",
            "Data columns (total 7 columns):\n",
            " #   Column              Non-Null Count   Dtype  \n",
            "---  ------              --------------   -----  \n",
            " 0   isFrequentReviewer  162758 non-null  bool   \n",
            " 1   reviewText          156311 non-null  object \n",
            " 2   sentiment           162758 non-null  object \n",
            " 3   audienceScore       149510 non-null  float64\n",
            " 4   ratingContents      99034 non-null   object \n",
            " 5   genre               160320 non-null  object \n",
            " 6   director            162758 non-null  object \n",
            "dtypes: bool(1), float64(1), object(5)\n",
            "memory usage: 8.8+ MB\n"
          ]
        }
      ],
      "source": [
        "# Check data types and missing values\n",
        "data.info()"
      ]
    },
    {
      "cell_type": "code",
      "execution_count": null,
      "id": "e2d59acf",
      "metadata": {
        "execution": {
          "iopub.execute_input": "2023-08-13T16:38:16.488278Z",
          "iopub.status.busy": "2023-08-13T16:38:16.487812Z",
          "iopub.status.idle": "2023-08-13T16:38:16.750308Z",
          "shell.execute_reply": "2023-08-13T16:38:16.749458Z"
        },
        "papermill": {
          "duration": 0.285033,
          "end_time": "2023-08-13T16:38:16.752712",
          "exception": false,
          "start_time": "2023-08-13T16:38:16.467679",
          "status": "completed"
        },
        "tags": [],
        "id": "e2d59acf",
        "outputId": "2d071045-1f2f-4770-8f4a-71af7b3bda94"
      },
      "outputs": [
        {
          "name": "stdout",
          "output_type": "stream",
          "text": [
            "isFrequentReviewer        0\n",
            "reviewText             6447\n",
            "sentiment                 0\n",
            "audienceScore         13248\n",
            "ratingContents        63724\n",
            "genre                  2438\n",
            "director                  0\n",
            "dtype: int64\n"
          ]
        }
      ],
      "source": [
        "missing_values = data.isnull().sum()\n",
        "print(missing_values)"
      ]
    },
    {
      "cell_type": "code",
      "execution_count": null,
      "id": "3f780b86",
      "metadata": {
        "execution": {
          "iopub.execute_input": "2023-08-13T16:38:16.793087Z",
          "iopub.status.busy": "2023-08-13T16:38:16.791858Z",
          "iopub.status.idle": "2023-08-13T16:38:16.895336Z",
          "shell.execute_reply": "2023-08-13T16:38:16.894390Z"
        },
        "papermill": {
          "duration": 0.126449,
          "end_time": "2023-08-13T16:38:16.897948",
          "exception": false,
          "start_time": "2023-08-13T16:38:16.771499",
          "status": "completed"
        },
        "tags": [],
        "id": "3f780b86"
      },
      "outputs": [],
      "source": [
        "# Fill the missing values\n",
        "data['reviewText'].fillna(value='', inplace=True)\n",
        "data['genre'].fillna(value='', inplace=True)\n",
        "data['ratingContents'] = data['ratingContents'].fillna(pd.Series([[]] * len(data)))\n",
        "data['audienceScore'] = data['audienceScore'].fillna(0.0)"
      ]
    },
    {
      "cell_type": "code",
      "execution_count": null,
      "id": "8d603be7",
      "metadata": {
        "execution": {
          "iopub.execute_input": "2023-08-13T16:38:16.937784Z",
          "iopub.status.busy": "2023-08-13T16:38:16.937368Z",
          "iopub.status.idle": "2023-08-13T16:38:17.380018Z",
          "shell.execute_reply": "2023-08-13T16:38:17.379201Z"
        },
        "papermill": {
          "duration": 0.465247,
          "end_time": "2023-08-13T16:38:17.382479",
          "exception": false,
          "start_time": "2023-08-13T16:38:16.917232",
          "status": "completed"
        },
        "tags": [],
        "id": "8d603be7",
        "outputId": "ee548f07-5eec-44bf-f7ff-fc76b656db90"
      },
      "outputs": [
        {
          "data": {
            "image/png": "[encoded data removed]",
            "text/plain": [
              "<Figure size 600x400 with 1 Axes>"
            ]
          },
          "metadata": {},
          "output_type": "display_data"
        }
      ],
      "source": [
        "# Countplot of the target variable\n",
        "plt.figure(figsize=(6, 4))\n",
        "sns.countplot(x='sentiment', data=data)\n",
        "plt.title('Distribution of Target Variable')\n",
        "plt.show()"
      ]
    },
    {
      "cell_type": "code",
      "execution_count": null,
      "id": "46bb07fb",
      "metadata": {
        "execution": {
          "iopub.execute_input": "2023-08-13T16:38:17.423674Z",
          "iopub.status.busy": "2023-08-13T16:38:17.422958Z",
          "iopub.status.idle": "2023-08-13T16:38:17.885249Z",
          "shell.execute_reply": "2023-08-13T16:38:17.884129Z"
        },
        "papermill": {
          "duration": 0.485858,
          "end_time": "2023-08-13T16:38:17.887871",
          "exception": false,
          "start_time": "2023-08-13T16:38:17.402013",
          "status": "completed"
        },
        "tags": [],
        "id": "46bb07fb",
        "outputId": "907dc639-b371-4798-bcde-b195eff74ae9"
      },
      "outputs": [
        {
          "data": {
            "image/png": "[encoded data removed]",
            "text/plain": [
              "<Figure size 800x600 with 1 Axes>"
            ]
          },
          "metadata": {},
          "output_type": "display_data"
        }
      ],
      "source": [
        "# Countplot of a categorical feature against the target\n",
        "plt.figure(figsize=(8, 6))\n",
        "sns.countplot(x='isFrequentReviewer', hue='sentiment', data=data)\n",
        "plt.title('Countplot of Categorical Feature by Target')\n",
        "plt.show()"
      ]
    },
    {
      "cell_type": "markdown",
      "id": "7c673b62",
      "metadata": {
        "papermill": {
          "duration": 0.01979,
          "end_time": "2023-08-13T16:38:17.927370",
          "exception": false,
          "start_time": "2023-08-13T16:38:17.907580",
          "status": "completed"
        },
        "tags": [],
        "id": "7c673b62"
      },
      "source": [
        "# Data Preprocessing"
      ]
    },
    {
      "cell_type": "code",
      "execution_count": null,
      "id": "da849596",
      "metadata": {
        "execution": {
          "iopub.execute_input": "2023-08-13T16:38:17.968459Z",
          "iopub.status.busy": "2023-08-13T16:38:17.968051Z",
          "iopub.status.idle": "2023-08-13T16:38:17.975694Z",
          "shell.execute_reply": "2023-08-13T16:38:17.974624Z"
        },
        "papermill": {
          "duration": 0.031227,
          "end_time": "2023-08-13T16:38:17.978132",
          "exception": false,
          "start_time": "2023-08-13T16:38:17.946905",
          "status": "completed"
        },
        "tags": [],
        "id": "da849596"
      },
      "outputs": [],
      "source": [
        "# Function to preprocess the reviewtext\n",
        "def preprocess_text(text):\n",
        "    # Convert text to lowercase\n",
        "    text = text.lower()\n",
        "\n",
        "    # Remove URLs\n",
        "    text = re.sub(r'http\\S+|www\\S+|https\\S+', '', text, flags=re.MULTILINE)\n",
        "\n",
        "    # Remove HTML tags\n",
        "    text = re.sub(r'<.*?>', '', text)\n",
        "\n",
        "    # Remove special characters (except for spaces)\n",
        "    text = re.sub(r'[^a-zA-Z\\s]', '', text)\n",
        "\n",
        "    # Remove non-ASCII characters\n",
        "    text = text.encode('ascii', 'ignore').decode('utf-8')\n",
        "\n",
        "    # Remove numbers\n",
        "    text = re.sub(r'\\d+', '', text)\n",
        "\n",
        "    # Tokenize the text into individual words or tokens\n",
        "    tokens = text.split()\n",
        "\n",
        "    # Remove short words (less than 3 characters)\n",
        "    tokens = [token for token in tokens if len(token) > 2]\n",
        "\n",
        "    # Convert tokens back to text\n",
        "    text = ' '.join(tokens)\n",
        "\n",
        "    return text"
      ]
    },
    {
      "cell_type": "markdown",
      "id": "9b3b089c",
      "metadata": {
        "papermill": {
          "duration": 0.019432,
          "end_time": "2023-08-13T16:38:18.017329",
          "exception": false,
          "start_time": "2023-08-13T16:38:17.997897",
          "status": "completed"
        },
        "tags": [],
        "id": "9b3b089c"
      },
      "source": [
        "# Feature Extraction"
      ]
    },
    {
      "cell_type": "code",
      "execution_count": null,
      "id": "26da5e08",
      "metadata": {
        "execution": {
          "iopub.execute_input": "2023-08-13T16:38:18.058637Z",
          "iopub.status.busy": "2023-08-13T16:38:18.058249Z",
          "iopub.status.idle": "2023-08-13T16:38:22.664491Z",
          "shell.execute_reply": "2023-08-13T16:38:22.663430Z"
        },
        "papermill": {
          "duration": 4.630388,
          "end_time": "2023-08-13T16:38:22.667353",
          "exception": false,
          "start_time": "2023-08-13T16:38:18.036965",
          "status": "completed"
        },
        "tags": [],
        "id": "26da5e08"
      },
      "outputs": [],
      "source": [
        "# Preprocessing: Apply text preprocessing to 'reviewText'\n",
        "data['reviewText'] = data['reviewText'].apply(preprocess_text)"
      ]
    },
    {
      "cell_type": "code",
      "execution_count": null,
      "id": "c6cdb58b",
      "metadata": {
        "execution": {
          "iopub.execute_input": "2023-08-13T16:38:22.708652Z",
          "iopub.status.busy": "2023-08-13T16:38:22.708261Z",
          "iopub.status.idle": "2023-08-13T16:38:22.713448Z",
          "shell.execute_reply": "2023-08-13T16:38:22.712247Z"
        },
        "papermill": {
          "duration": 0.028789,
          "end_time": "2023-08-13T16:38:22.715869",
          "exception": false,
          "start_time": "2023-08-13T16:38:22.687080",
          "status": "completed"
        },
        "tags": [],
        "id": "c6cdb58b"
      },
      "outputs": [],
      "source": [
        "# Create a pipeline for text feature 'reviewText'\n",
        "text_preprocessor = Pipeline([\n",
        "    ('tfidf', TfidfVectorizer(max_features=15000))\n",
        "])"
      ]
    },
    {
      "cell_type": "markdown",
      "id": "e0bb84d2",
      "metadata": {
        "papermill": {
          "duration": 0.019249,
          "end_time": "2023-08-13T16:38:22.754890",
          "exception": false,
          "start_time": "2023-08-13T16:38:22.735641",
          "status": "completed"
        },
        "tags": [],
        "id": "e0bb84d2"
      },
      "source": [
        "# Encoding the categorical features"
      ]
    },
    {
      "cell_type": "code",
      "execution_count": null,
      "id": "2f742085",
      "metadata": {
        "execution": {
          "iopub.execute_input": "2023-08-13T16:38:22.795963Z",
          "iopub.status.busy": "2023-08-13T16:38:22.795595Z",
          "iopub.status.idle": "2023-08-13T16:38:22.800520Z",
          "shell.execute_reply": "2023-08-13T16:38:22.799469Z"
        },
        "papermill": {
          "duration": 0.028346,
          "end_time": "2023-08-13T16:38:22.802818",
          "exception": false,
          "start_time": "2023-08-13T16:38:22.774472",
          "status": "completed"
        },
        "tags": [],
        "id": "2f742085"
      },
      "outputs": [],
      "source": [
        "# Create a pipeline for Categorical features 'genre, ratingContents', 'director'\n",
        "categorical_preprocessor = Pipeline([\n",
        "    ('encoder', OrdinalEncoder(handle_unknown='use_encoded_value', unknown_value=-1))\n",
        "])"
      ]
    },
    {
      "cell_type": "code",
      "execution_count": null,
      "id": "a420c913",
      "metadata": {
        "execution": {
          "iopub.execute_input": "2023-08-13T16:38:22.844438Z",
          "iopub.status.busy": "2023-08-13T16:38:22.844002Z",
          "iopub.status.idle": "2023-08-13T16:38:22.871559Z",
          "shell.execute_reply": "2023-08-13T16:38:22.870530Z"
        },
        "papermill": {
          "duration": 0.051858,
          "end_time": "2023-08-13T16:38:22.874338",
          "exception": false,
          "start_time": "2023-08-13T16:38:22.822480",
          "status": "completed"
        },
        "tags": [],
        "id": "a420c913"
      },
      "outputs": [],
      "source": [
        "# Converting the boolean and text data into Numerical 0's and 1's\n",
        "data['isFrequentReviewer'] = data['isFrequentReviewer'].map({True: 1, False: 0})\n",
        "data['sentiment'] = data['sentiment'].map({'POSITIVE': 1, 'NEGATIVE': 0})"
      ]
    },
    {
      "cell_type": "markdown",
      "id": "2e51043d",
      "metadata": {
        "papermill": {
          "duration": 0.019444,
          "end_time": "2023-08-13T16:38:22.914109",
          "exception": false,
          "start_time": "2023-08-13T16:38:22.894665",
          "status": "completed"
        },
        "tags": [],
        "id": "2e51043d"
      },
      "source": [
        "# Feature Scaling"
      ]
    },
    {
      "cell_type": "code",
      "execution_count": null,
      "id": "8dcb26c6",
      "metadata": {
        "execution": {
          "iopub.execute_input": "2023-08-13T16:38:22.955769Z",
          "iopub.status.busy": "2023-08-13T16:38:22.955372Z",
          "iopub.status.idle": "2023-08-13T16:38:22.960415Z",
          "shell.execute_reply": "2023-08-13T16:38:22.959250Z"
        },
        "papermill": {
          "duration": 0.028473,
          "end_time": "2023-08-13T16:38:22.962667",
          "exception": false,
          "start_time": "2023-08-13T16:38:22.934194",
          "status": "completed"
        },
        "tags": [],
        "id": "8dcb26c6"
      },
      "outputs": [],
      "source": [
        "# Create a pipeline for Numerical feature 'audienceScore'\n",
        "numerical_preprocessor = Pipeline([\n",
        "    ('scaler', StandardScaler())\n",
        "])"
      ]
    },
    {
      "cell_type": "code",
      "execution_count": null,
      "id": "9b070473",
      "metadata": {
        "execution": {
          "iopub.execute_input": "2023-08-13T16:38:23.004383Z",
          "iopub.status.busy": "2023-08-13T16:38:23.003953Z",
          "iopub.status.idle": "2023-08-13T16:38:24.822802Z",
          "shell.execute_reply": "2023-08-13T16:38:24.821332Z"
        },
        "papermill": {
          "duration": 1.843145,
          "end_time": "2023-08-13T16:38:24.825911",
          "exception": false,
          "start_time": "2023-08-13T16:38:22.982766",
          "status": "completed"
        },
        "tags": [],
        "id": "9b070473"
      },
      "outputs": [],
      "source": [
        "# Convert the string representation of lists into actual lists\n",
        "data['ratingContents'] = data['ratingContents'].apply(lambda x: ast.literal_eval(x) if isinstance(x, str) else x)\n",
        "\n",
        "# Preprocessing: Remove square brackets and convert each list into a string\n",
        "data['ratingContents'] = data['ratingContents'].apply(lambda x: ', '.join(x) if isinstance(x, list) else x)"
      ]
    },
    {
      "cell_type": "markdown",
      "id": "b70d5325",
      "metadata": {
        "papermill": {
          "duration": 0.019252,
          "end_time": "2023-08-13T16:38:24.865296",
          "exception": false,
          "start_time": "2023-08-13T16:38:24.846044",
          "status": "completed"
        },
        "tags": [],
        "id": "b70d5325"
      },
      "source": [
        "# Column Transformer"
      ]
    },
    {
      "cell_type": "code",
      "execution_count": null,
      "id": "d6c6944c",
      "metadata": {
        "execution": {
          "iopub.execute_input": "2023-08-13T16:38:24.906422Z",
          "iopub.status.busy": "2023-08-13T16:38:24.906024Z",
          "iopub.status.idle": "2023-08-13T16:38:24.911661Z",
          "shell.execute_reply": "2023-08-13T16:38:24.910472Z"
        },
        "papermill": {
          "duration": 0.029216,
          "end_time": "2023-08-13T16:38:24.913872",
          "exception": false,
          "start_time": "2023-08-13T16:38:24.884656",
          "status": "completed"
        },
        "tags": [],
        "id": "d6c6944c"
      },
      "outputs": [],
      "source": [
        "# Create a column transformer to apply the pipelines to the respective columns\n",
        "preprocessor = ColumnTransformer(\n",
        "    transformers=[\n",
        "        ('text', text_preprocessor, 'reviewText'),\n",
        "        ('categorical', categorical_preprocessor, ['genre', 'ratingContents', 'director']),\n",
        "        ('numerical', numerical_preprocessor, ['audienceScore'])\n",
        "    ],\n",
        "    remainder='drop'\n",
        ")"
      ]
    },
    {
      "cell_type": "code",
      "execution_count": null,
      "id": "78d48481",
      "metadata": {
        "execution": {
          "iopub.execute_input": "2023-08-13T16:38:24.955482Z",
          "iopub.status.busy": "2023-08-13T16:38:24.954846Z",
          "iopub.status.idle": "2023-08-13T16:38:25.172049Z",
          "shell.execute_reply": "2023-08-13T16:38:25.170884Z"
        },
        "papermill": {
          "duration": 0.240655,
          "end_time": "2023-08-13T16:38:25.174355",
          "exception": false,
          "start_time": "2023-08-13T16:38:24.933700",
          "status": "completed"
        },
        "tags": [],
        "id": "78d48481",
        "outputId": "06bf9bf1-f803-4a46-812b-7265761ecccd"
      },
      "outputs": [
        {
          "name": "stdout",
          "output_type": "stream",
          "text": [
            "isFrequentReviewer    0\n",
            "reviewText            0\n",
            "sentiment             0\n",
            "audienceScore         0\n",
            "ratingContents        0\n",
            "genre                 0\n",
            "director              0\n",
            "dtype: int64\n"
          ]
        }
      ],
      "source": [
        "missing_values = data.isnull().sum()\n",
        "print(missing_values)"
      ]
    },
    {
      "cell_type": "code",
      "execution_count": null,
      "id": "5d169c23",
      "metadata": {
        "execution": {
          "iopub.execute_input": "2023-08-13T16:38:25.215886Z",
          "iopub.status.busy": "2023-08-13T16:38:25.215511Z",
          "iopub.status.idle": "2023-08-13T16:38:25.324584Z",
          "shell.execute_reply": "2023-08-13T16:38:25.323528Z"
        },
        "papermill": {
          "duration": 0.132951,
          "end_time": "2023-08-13T16:38:25.327148",
          "exception": false,
          "start_time": "2023-08-13T16:38:25.194197",
          "status": "completed"
        },
        "tags": [],
        "id": "5d169c23"
      },
      "outputs": [],
      "source": [
        "# Split the data into features (X) and target (y)\n",
        "X = data.drop('sentiment', axis=1)\n",
        "y = data['sentiment'].values\n",
        "\n",
        "# Split the data into training and testing sets (80% training, 20% testing)\n",
        "X_train, X_test, y_train, y_test = train_test_split(X, y, test_size=0.2, random_state=42)\n",
        "\n",
        "#Gradient Boost: 0.6898\n",
        "#XG Boost: 0.7552, 0.7962 features: 15000"
      ]
    },
    {
      "cell_type": "markdown",
      "id": "30e289e3",
      "metadata": {
        "papermill": {
          "duration": 0.019441,
          "end_time": "2023-08-13T16:38:25.366968",
          "exception": false,
          "start_time": "2023-08-13T16:38:25.347527",
          "status": "completed"
        },
        "tags": [],
        "id": "30e289e3"
      },
      "source": [
        "# Model"
      ]
    },
    {
      "cell_type": "code",
      "execution_count": null,
      "id": "3b2718bc",
      "metadata": {
        "execution": {
          "iopub.execute_input": "2023-08-13T16:38:25.408414Z",
          "iopub.status.busy": "2023-08-13T16:38:25.408013Z",
          "iopub.status.idle": "2023-08-13T16:38:25.412796Z",
          "shell.execute_reply": "2023-08-13T16:38:25.411628Z"
        },
        "papermill": {
          "duration": 0.0282,
          "end_time": "2023-08-13T16:38:25.415004",
          "exception": false,
          "start_time": "2023-08-13T16:38:25.386804",
          "status": "completed"
        },
        "tags": [],
        "id": "3b2718bc"
      },
      "outputs": [],
      "source": [
        "model = LogisticRegression(random_state=42)\n",
        "#model = xgb.XGBClassifier(random_state=42)\n",
        "#model = RandomForestClassifier(random_state=42)"
      ]
    },
    {
      "cell_type": "markdown",
      "id": "f6303da4",
      "metadata": {
        "papermill": {
          "duration": 0.019665,
          "end_time": "2023-08-13T16:38:25.454771",
          "exception": false,
          "start_time": "2023-08-13T16:38:25.435106",
          "status": "completed"
        },
        "tags": [],
        "id": "f6303da4"
      },
      "source": [
        "# Cross Validation and Hyper Parameter Tuning"
      ]
    },
    {
      "cell_type": "code",
      "execution_count": null,
      "id": "d202789f",
      "metadata": {
        "execution": {
          "iopub.execute_input": "2023-08-13T16:38:25.496508Z",
          "iopub.status.busy": "2023-08-13T16:38:25.496098Z",
          "iopub.status.idle": "2023-08-13T16:38:25.503915Z",
          "shell.execute_reply": "2023-08-13T16:38:25.502743Z"
        },
        "papermill": {
          "duration": 0.031667,
          "end_time": "2023-08-13T16:38:25.506359",
          "exception": false,
          "start_time": "2023-08-13T16:38:25.474692",
          "status": "completed"
        },
        "tags": [],
        "id": "d202789f"
      },
      "outputs": [],
      "source": [
        "from sklearn.model_selection import GridSearchCV\n",
        "\n",
        "# Define the hyperparameter grid\n",
        "'''param_grid = {\n",
        "    'classifier__n_estimators': [100, 200, 300, 400],\n",
        "    'classifier__max_depth': [None, 10, 20, 30]\n",
        "}'''\n",
        "\n",
        "# Define the hyperparameter grid for LogisticRegression\n",
        "param_grid = {\n",
        "    'classifier__C': [0.01, 0.1, 1.0, 10.0],  # Regularization parameter\n",
        "    'classifier__max_iter': [800, 1000, 1200],   # Maximum number of iterations\n",
        "    'classifier__penalty': ['l1', 'l2'],       # Regularization type\n",
        "    'classifier__solver': ['liblinear'],       # Solver for optimization\n",
        "}\n",
        "\n",
        "# Create a new pipeline with the ColumnTransformer, LogisticRegression, and GridSearchCV\n",
        "pipeline = Pipeline([\n",
        "    ('pipeline', preprocessor),\n",
        "    ('classifier', model)\n",
        "])\n",
        "\n",
        "# Initialize GridSearchCV with the pipeline and hyperparameter grid\n",
        "grid_search = GridSearchCV(pipeline, param_grid, cv=5, scoring='f1_weighted')"
      ]
    },
    {
      "cell_type": "markdown",
      "id": "fccb74cf",
      "metadata": {
        "papermill": {
          "duration": 0.020088,
          "end_time": "2023-08-13T16:38:25.546485",
          "exception": false,
          "start_time": "2023-08-13T16:38:25.526397",
          "status": "completed"
        },
        "tags": [],
        "id": "fccb74cf"
      },
      "source": [
        "# Training"
      ]
    },
    {
      "cell_type": "code",
      "execution_count": null,
      "id": "48801362",
      "metadata": {
        "execution": {
          "iopub.execute_input": "2023-08-13T16:38:25.588475Z",
          "iopub.status.busy": "2023-08-13T16:38:25.588060Z",
          "iopub.status.idle": "2023-08-13T16:51:20.663535Z",
          "shell.execute_reply": "2023-08-13T16:51:20.662244Z"
        },
        "papermill": {
          "duration": 775.11905,
          "end_time": "2023-08-13T16:51:20.685774",
          "exception": false,
          "start_time": "2023-08-13T16:38:25.566724",
          "status": "completed"
        },
        "tags": [],
        "id": "48801362",
        "outputId": "2c907caa-e78e-4d62-b9a5-a9dd13b303a2"
      },
      "outputs": [
        {
          "name": "stdout",
          "output_type": "stream",
          "text": [
            "Best XGB F1 Score: 0.7961045011578907\n"
          ]
        }
      ],
      "source": [
        "# Fit the GridSearchCV to the training data\n",
        "grid_search.fit(X_train, y_train)\n",
        "\n",
        "# Get the best model from the GridSearchCV\n",
        "best_model = grid_search.best_estimator_\n",
        "\n",
        "# Refit the best model on the entire training dataset\n",
        "best_model.fit(X_train, y_train)\n",
        "\n",
        "# Make predictions on the test data\n",
        "y_pred = best_model.predict(X_test)\n",
        "\n",
        "# Calculate the F1 score on the test data\n",
        "f1 = f1_score(y_test, y_pred, average='weighted')\n",
        "print(\"Best XGB F1 Score:\", f1)"
      ]
    },
    {
      "cell_type": "markdown",
      "id": "e8d17168",
      "metadata": {
        "papermill": {
          "duration": 0.020043,
          "end_time": "2023-08-13T16:51:20.726597",
          "exception": false,
          "start_time": "2023-08-13T16:51:20.706554",
          "status": "completed"
        },
        "tags": [],
        "id": "e8d17168"
      },
      "source": [
        "# New test data"
      ]
    },
    {
      "cell_type": "code",
      "execution_count": null,
      "id": "1bfa4278",
      "metadata": {
        "execution": {
          "iopub.execute_input": "2023-08-13T16:51:20.769000Z",
          "iopub.status.busy": "2023-08-13T16:51:20.768599Z",
          "iopub.status.idle": "2023-08-13T16:51:21.372377Z",
          "shell.execute_reply": "2023-08-13T16:51:21.370826Z"
        },
        "papermill": {
          "duration": 0.62809,
          "end_time": "2023-08-13T16:51:21.375011",
          "exception": false,
          "start_time": "2023-08-13T16:51:20.746921",
          "status": "completed"
        },
        "tags": [],
        "id": "1bfa4278",
        "outputId": "8dff0057-fa76-4224-bfee-8b0db327d007"
      },
      "outputs": [
        {
          "name": "stdout",
          "output_type": "stream",
          "text": [
            "isFrequentReviewer        0\n",
            "reviewText             2510\n",
            "audienceScore          4931\n",
            "ratingContents        24296\n",
            "genre                   920\n",
            "director                  0\n",
            "dtype: int64\n"
          ]
        }
      ],
      "source": [
        "test = pd.read_csv('/kaggle/input/sentiment-prediction-on-movie-reviews/test.csv')\n",
        "\n",
        "# Merge the data based on the movie ID\n",
        "test = pd.merge(test, data2, on='movieid', how='left')\n",
        "\n",
        "# Drop unnecessary columns\n",
        "test = test.drop(['rating', 'originalLanguage', 'runtimeMinutes','title', 'movieid', 'reviewerName', 'soundType', 'distributor', 'boxOffice', 'releaseDateStreaming', 'releaseDateTheaters'], axis=1)\n",
        "test.rename(columns={'isTopCritic': 'isFrequentReviewer'}, inplace=True)\n",
        "\n",
        "missing_values = test.isnull().sum()\n",
        "print(missing_values)"
      ]
    },
    {
      "cell_type": "code",
      "execution_count": null,
      "id": "29d2fbdc",
      "metadata": {
        "execution": {
          "iopub.execute_input": "2023-08-13T16:51:21.418083Z",
          "iopub.status.busy": "2023-08-13T16:51:21.417661Z",
          "iopub.status.idle": "2023-08-13T16:51:21.459911Z",
          "shell.execute_reply": "2023-08-13T16:51:21.458734Z"
        },
        "papermill": {
          "duration": 0.066542,
          "end_time": "2023-08-13T16:51:21.462685",
          "exception": false,
          "start_time": "2023-08-13T16:51:21.396143",
          "status": "completed"
        },
        "tags": [],
        "id": "29d2fbdc"
      },
      "outputs": [],
      "source": [
        "# Fill the missing values\n",
        "test['reviewText'].fillna(value='', inplace=True)\n",
        "test['genre'].fillna(value='', inplace=True)\n",
        "test['audienceScore'] = test['audienceScore'].fillna(0.0)\n",
        "test['ratingContents'] = test['ratingContents'].fillna(pd.Series([[]] * len(test)))"
      ]
    },
    {
      "cell_type": "code",
      "execution_count": null,
      "id": "206a8789",
      "metadata": {
        "execution": {
          "iopub.execute_input": "2023-08-13T16:51:21.504852Z",
          "iopub.status.busy": "2023-08-13T16:51:21.504438Z",
          "iopub.status.idle": "2023-08-13T16:51:21.587815Z",
          "shell.execute_reply": "2023-08-13T16:51:21.586558Z"
        },
        "papermill": {
          "duration": 0.107818,
          "end_time": "2023-08-13T16:51:21.590404",
          "exception": false,
          "start_time": "2023-08-13T16:51:21.482586",
          "status": "completed"
        },
        "tags": [],
        "id": "206a8789",
        "outputId": "94754e0d-0f16-49de-d54e-65ad15e961f8"
      },
      "outputs": [
        {
          "name": "stdout",
          "output_type": "stream",
          "text": [
            "isFrequentReviewer    0\n",
            "reviewText            0\n",
            "audienceScore         0\n",
            "ratingContents        0\n",
            "genre                 0\n",
            "director              0\n",
            "dtype: int64\n"
          ]
        }
      ],
      "source": [
        "missing_values = test.isnull().sum()\n",
        "print(missing_values)"
      ]
    },
    {
      "cell_type": "code",
      "execution_count": null,
      "id": "7f816d85",
      "metadata": {
        "execution": {
          "iopub.execute_input": "2023-08-13T16:51:21.634109Z",
          "iopub.status.busy": "2023-08-13T16:51:21.633292Z",
          "iopub.status.idle": "2023-08-13T16:51:21.720936Z",
          "shell.execute_reply": "2023-08-13T16:51:21.719088Z"
        },
        "papermill": {
          "duration": 0.112863,
          "end_time": "2023-08-13T16:51:21.723567",
          "exception": false,
          "start_time": "2023-08-13T16:51:21.610704",
          "status": "completed"
        },
        "tags": [],
        "id": "7f816d85",
        "outputId": "c688bff9-0254-4512-b5a2-a0857ed1d86e"
      },
      "outputs": [
        {
          "name": "stdout",
          "output_type": "stream",
          "text": [
            "<class 'pandas.core.frame.DataFrame'>\n",
            "Int64Index: 55315 entries, 0 to 55314\n",
            "Data columns (total 6 columns):\n",
            " #   Column              Non-Null Count  Dtype  \n",
            "---  ------              --------------  -----  \n",
            " 0   isFrequentReviewer  55315 non-null  bool   \n",
            " 1   reviewText          55315 non-null  object \n",
            " 2   audienceScore       55315 non-null  float64\n",
            " 3   ratingContents      55315 non-null  object \n",
            " 4   genre               55315 non-null  object \n",
            " 5   director            55315 non-null  object \n",
            "dtypes: bool(1), float64(1), object(4)\n",
            "memory usage: 2.6+ MB\n"
          ]
        }
      ],
      "source": [
        "test.info()"
      ]
    },
    {
      "cell_type": "code",
      "execution_count": null,
      "id": "dfc90d02",
      "metadata": {
        "execution": {
          "iopub.execute_input": "2023-08-13T16:51:21.765907Z",
          "iopub.status.busy": "2023-08-13T16:51:21.765538Z",
          "iopub.status.idle": "2023-08-13T16:51:23.305702Z",
          "shell.execute_reply": "2023-08-13T16:51:23.304599Z"
        },
        "papermill": {
          "duration": 1.564707,
          "end_time": "2023-08-13T16:51:23.308483",
          "exception": false,
          "start_time": "2023-08-13T16:51:21.743776",
          "status": "completed"
        },
        "tags": [],
        "id": "dfc90d02"
      },
      "outputs": [],
      "source": [
        "test['reviewText'] = test['reviewText'].apply(preprocess_text)"
      ]
    },
    {
      "cell_type": "code",
      "execution_count": null,
      "id": "4d3b6690",
      "metadata": {
        "execution": {
          "iopub.execute_input": "2023-08-13T16:51:23.351870Z",
          "iopub.status.busy": "2023-08-13T16:51:23.351492Z",
          "iopub.status.idle": "2023-08-13T16:51:23.878921Z",
          "shell.execute_reply": "2023-08-13T16:51:23.877770Z"
        },
        "papermill": {
          "duration": 0.552463,
          "end_time": "2023-08-13T16:51:23.881744",
          "exception": false,
          "start_time": "2023-08-13T16:51:23.329281",
          "status": "completed"
        },
        "tags": [],
        "id": "4d3b6690"
      },
      "outputs": [],
      "source": [
        "# Convert the string representation of lists into actual lists\n",
        "test['ratingContents'] = test['ratingContents'].apply(lambda x: ast.literal_eval(x) if isinstance(x, str) else x)\n",
        "\n",
        "# Preprocessing: Remove square brackets and convert each list into a string\n",
        "test['ratingContents'] = test['ratingContents'].apply(lambda x: ', '.join(x) if isinstance(x, list) else x)\n",
        "test['isFrequentReviewer'] = test['isFrequentReviewer'].map({True: 1, False: 0})"
      ]
    },
    {
      "cell_type": "code",
      "execution_count": null,
      "id": "45affe63",
      "metadata": {
        "execution": {
          "iopub.execute_input": "2023-08-13T16:51:23.924640Z",
          "iopub.status.busy": "2023-08-13T16:51:23.924279Z",
          "iopub.status.idle": "2023-08-13T16:51:24.021440Z",
          "shell.execute_reply": "2023-08-13T16:51:24.020221Z"
        },
        "papermill": {
          "duration": 0.121882,
          "end_time": "2023-08-13T16:51:24.024378",
          "exception": false,
          "start_time": "2023-08-13T16:51:23.902496",
          "status": "completed"
        },
        "tags": [],
        "id": "45affe63",
        "outputId": "78b5d6c9-5eff-492a-dbe4-4ccda6fb5dce"
      },
      "outputs": [
        {
          "data": {
            "text/html": [
              "<style>#sk-container-id-1 {color: black;background-color: white;}#sk-container-id-1 pre{padding: 0;}#sk-container-id-1 div.sk-toggleable {background-color: white;}#sk-container-id-1 label.sk-toggleable__label {cursor: pointer;display: block;width: 100%;margin-bottom: 0;padding: 0.3em;box-sizing: border-box;text-align: center;}#sk-container-id-1 label.sk-toggleable__label-arrow:before {content: \"▸\";float: left;margin-right: 0.25em;color: #696969;}#sk-container-id-1 label.sk-toggleable__label-arrow:hover:before {color: black;}#sk-container-id-1 div.sk-estimator:hover label.sk-toggleable__label-arrow:before {color: black;}#sk-container-id-1 div.sk-toggleable__content {max-height: 0;max-width: 0;overflow: hidden;text-align: left;background-color: #f0f8ff;}#sk-container-id-1 div.sk-toggleable__content pre {margin: 0.2em;color: black;border-radius: 0.25em;background-color: #f0f8ff;}#sk-container-id-1 input.sk-toggleable__control:checked~div.sk-toggleable__content {max-height: 200px;max-width: 100%;overflow: auto;}#sk-container-id-1 input.sk-toggleable__control:checked~label.sk-toggleable__label-arrow:before {content: \"▾\";}#sk-container-id-1 div.sk-estimator input.sk-toggleable__control:checked~label.sk-toggleable__label {background-color: #d4ebff;}#sk-container-id-1 div.sk-label input.sk-toggleable__control:checked~label.sk-toggleable__label {background-color: #d4ebff;}#sk-container-id-1 input.sk-hidden--visually {border: 0;clip: rect(1px 1px 1px 1px);clip: rect(1px, 1px, 1px, 1px);height: 1px;margin: -1px;overflow: hidden;padding: 0;position: absolute;width: 1px;}#sk-container-id-1 div.sk-estimator {font-family: monospace;background-color: #f0f8ff;border: 1px dotted black;border-radius: 0.25em;box-sizing: border-box;margin-bottom: 0.5em;}#sk-container-id-1 div.sk-estimator:hover {background-color: #d4ebff;}#sk-container-id-1 div.sk-parallel-item::after {content: \"\";width: 100%;border-bottom: 1px solid gray;flex-grow: 1;}#sk-container-id-1 div.sk-label:hover label.sk-toggleable__label {background-color: #d4ebff;}#sk-container-id-1 div.sk-serial::before {content: \"\";position: absolute;border-left: 1px solid gray;box-sizing: border-box;top: 0;bottom: 0;left: 50%;z-index: 0;}#sk-container-id-1 div.sk-serial {display: flex;flex-direction: column;align-items: center;background-color: white;padding-right: 0.2em;padding-left: 0.2em;position: relative;}#sk-container-id-1 div.sk-item {position: relative;z-index: 1;}#sk-container-id-1 div.sk-parallel {display: flex;align-items: stretch;justify-content: center;background-color: white;position: relative;}#sk-container-id-1 div.sk-item::before, #sk-container-id-1 div.sk-parallel-item::before {content: \"\";position: absolute;border-left: 1px solid gray;box-sizing: border-box;top: 0;bottom: 0;left: 50%;z-index: -1;}#sk-container-id-1 div.sk-parallel-item {display: flex;flex-direction: column;z-index: 1;position: relative;background-color: white;}#sk-container-id-1 div.sk-parallel-item:first-child::after {align-self: flex-end;width: 50%;}#sk-container-id-1 div.sk-parallel-item:last-child::after {align-self: flex-start;width: 50%;}#sk-container-id-1 div.sk-parallel-item:only-child::after {width: 0;}#sk-container-id-1 div.sk-dashed-wrapped {border: 1px dashed gray;margin: 0 0.4em 0.5em 0.4em;box-sizing: border-box;padding-bottom: 0.4em;background-color: white;}#sk-container-id-1 div.sk-label label {font-family: monospace;font-weight: bold;display: inline-block;line-height: 1.2em;}#sk-container-id-1 div.sk-label-container {text-align: center;}#sk-container-id-1 div.sk-container {/* jupyter's `normalize.less` sets `[hidden] { display: none; }` but bootstrap.min.css set `[hidden] { display: none !important; }` so we also need the `!important` here to be able to override the default hidden behavior on the sphinx rendered scikit-learn.org. See: https://github.com/scikit-learn/scikit-learn/issues/21755 */display: inline-block !important;position: relative;}#sk-container-id-1 div.sk-text-repr-fallback {display: none;}</style><div id=\"sk-container-id-1\" class=\"sk-top-container\"><div class=\"sk-text-repr-fallback\"><pre>Pipeline(steps=[(&#x27;pipeline&#x27;,\n",
              "                 ColumnTransformer(transformers=[(&#x27;text&#x27;,\n",
              "                                                  Pipeline(steps=[(&#x27;tfidf&#x27;,\n",
              "                                                                   TfidfVectorizer(max_features=15000))]),\n",
              "                                                  &#x27;reviewText&#x27;),\n",
              "                                                 (&#x27;categorical&#x27;,\n",
              "                                                  Pipeline(steps=[(&#x27;encoder&#x27;,\n",
              "                                                                   OrdinalEncoder(handle_unknown=&#x27;use_encoded_value&#x27;,\n",
              "                                                                                  unknown_value=-1))]),\n",
              "                                                  [&#x27;genre&#x27;, &#x27;ratingContents&#x27;,\n",
              "                                                   &#x27;director&#x27;]),\n",
              "                                                 (&#x27;numerical&#x27;,\n",
              "                                                  Pipeline(steps=[(&#x27;scaler&#x27;,\n",
              "                                                                   StandardScaler())]),\n",
              "                                                  [&#x27;audienceScore&#x27;])])),\n",
              "                (&#x27;classifier&#x27;,\n",
              "                 LogisticRegression(max_iter=800, penalty=&#x27;l1&#x27;, random_state=42,\n",
              "                                    solver=&#x27;liblinear&#x27;))])</pre><b>In a Jupyter environment, please rerun this cell to show the HTML representation or trust the notebook. <br />On GitHub, the HTML representation is unable to render, please try loading this page with nbviewer.org.</b></div><div class=\"sk-container\" hidden><div class=\"sk-item sk-dashed-wrapped\"><div class=\"sk-label-container\"><div class=\"sk-label sk-toggleable\"><input class=\"sk-toggleable__control sk-hidden--visually\" id=\"sk-estimator-id-1\" type=\"checkbox\" ><label for=\"sk-estimator-id-1\" class=\"sk-toggleable__label sk-toggleable__label-arrow\">Pipeline</label><div class=\"sk-toggleable__content\"><pre>Pipeline(steps=[(&#x27;pipeline&#x27;,\n",
              "                 ColumnTransformer(transformers=[(&#x27;text&#x27;,\n",
              "                                                  Pipeline(steps=[(&#x27;tfidf&#x27;,\n",
              "                                                                   TfidfVectorizer(max_features=15000))]),\n",
              "                                                  &#x27;reviewText&#x27;),\n",
              "                                                 (&#x27;categorical&#x27;,\n",
              "                                                  Pipeline(steps=[(&#x27;encoder&#x27;,\n",
              "                                                                   OrdinalEncoder(handle_unknown=&#x27;use_encoded_value&#x27;,\n",
              "                                                                                  unknown_value=-1))]),\n",
              "                                                  [&#x27;genre&#x27;, &#x27;ratingContents&#x27;,\n",
              "                                                   &#x27;director&#x27;]),\n",
              "                                                 (&#x27;numerical&#x27;,\n",
              "                                                  Pipeline(steps=[(&#x27;scaler&#x27;,\n",
              "                                                                   StandardScaler())]),\n",
              "                                                  [&#x27;audienceScore&#x27;])])),\n",
              "                (&#x27;classifier&#x27;,\n",
              "                 LogisticRegression(max_iter=800, penalty=&#x27;l1&#x27;, random_state=42,\n",
              "                                    solver=&#x27;liblinear&#x27;))])</pre></div></div></div><div class=\"sk-serial\"><div class=\"sk-item sk-dashed-wrapped\"><div class=\"sk-label-container\"><div class=\"sk-label sk-toggleable\"><input class=\"sk-toggleable__control sk-hidden--visually\" id=\"sk-estimator-id-2\" type=\"checkbox\" ><label for=\"sk-estimator-id-2\" class=\"sk-toggleable__label sk-toggleable__label-arrow\">pipeline: ColumnTransformer</label><div class=\"sk-toggleable__content\"><pre>ColumnTransformer(transformers=[(&#x27;text&#x27;,\n",
              "                                 Pipeline(steps=[(&#x27;tfidf&#x27;,\n",
              "                                                  TfidfVectorizer(max_features=15000))]),\n",
              "                                 &#x27;reviewText&#x27;),\n",
              "                                (&#x27;categorical&#x27;,\n",
              "                                 Pipeline(steps=[(&#x27;encoder&#x27;,\n",
              "                                                  OrdinalEncoder(handle_unknown=&#x27;use_encoded_value&#x27;,\n",
              "                                                                 unknown_value=-1))]),\n",
              "                                 [&#x27;genre&#x27;, &#x27;ratingContents&#x27;, &#x27;director&#x27;]),\n",
              "                                (&#x27;numerical&#x27;,\n",
              "                                 Pipeline(steps=[(&#x27;scaler&#x27;, StandardScaler())]),\n",
              "                                 [&#x27;audienceScore&#x27;])])</pre></div></div></div><div class=\"sk-parallel\"><div class=\"sk-parallel-item\"><div class=\"sk-item\"><div class=\"sk-label-container\"><div class=\"sk-label sk-toggleable\"><input class=\"sk-toggleable__control sk-hidden--visually\" id=\"sk-estimator-id-3\" type=\"checkbox\" ><label for=\"sk-estimator-id-3\" class=\"sk-toggleable__label sk-toggleable__label-arrow\">text</label><div class=\"sk-toggleable__content\"><pre>reviewText</pre></div></div></div><div class=\"sk-serial\"><div class=\"sk-item\"><div class=\"sk-serial\"><div class=\"sk-item\"><div class=\"sk-estimator sk-toggleable\"><input class=\"sk-toggleable__control sk-hidden--visually\" id=\"sk-estimator-id-4\" type=\"checkbox\" ><label for=\"sk-estimator-id-4\" class=\"sk-toggleable__label sk-toggleable__label-arrow\">TfidfVectorizer</label><div class=\"sk-toggleable__content\"><pre>TfidfVectorizer(max_features=15000)</pre></div></div></div></div></div></div></div></div><div class=\"sk-parallel-item\"><div class=\"sk-item\"><div class=\"sk-label-container\"><div class=\"sk-label sk-toggleable\"><input class=\"sk-toggleable__control sk-hidden--visually\" id=\"sk-estimator-id-5\" type=\"checkbox\" ><label for=\"sk-estimator-id-5\" class=\"sk-toggleable__label sk-toggleable__label-arrow\">categorical</label><div class=\"sk-toggleable__content\"><pre>[&#x27;genre&#x27;, &#x27;ratingContents&#x27;, &#x27;director&#x27;]</pre></div></div></div><div class=\"sk-serial\"><div class=\"sk-item\"><div class=\"sk-serial\"><div class=\"sk-item\"><div class=\"sk-estimator sk-toggleable\"><input class=\"sk-toggleable__control sk-hidden--visually\" id=\"sk-estimator-id-6\" type=\"checkbox\" ><label for=\"sk-estimator-id-6\" class=\"sk-toggleable__label sk-toggleable__label-arrow\">OrdinalEncoder</label><div class=\"sk-toggleable__content\"><pre>OrdinalEncoder(handle_unknown=&#x27;use_encoded_value&#x27;, unknown_value=-1)</pre></div></div></div></div></div></div></div></div><div class=\"sk-parallel-item\"><div class=\"sk-item\"><div class=\"sk-label-container\"><div class=\"sk-label sk-toggleable\"><input class=\"sk-toggleable__control sk-hidden--visually\" id=\"sk-estimator-id-7\" type=\"checkbox\" ><label for=\"sk-estimator-id-7\" class=\"sk-toggleable__label sk-toggleable__label-arrow\">numerical</label><div class=\"sk-toggleable__content\"><pre>[&#x27;audienceScore&#x27;]</pre></div></div></div><div class=\"sk-serial\"><div class=\"sk-item\"><div class=\"sk-serial\"><div class=\"sk-item\"><div class=\"sk-estimator sk-toggleable\"><input class=\"sk-toggleable__control sk-hidden--visually\" id=\"sk-estimator-id-8\" type=\"checkbox\" ><label for=\"sk-estimator-id-8\" class=\"sk-toggleable__label sk-toggleable__label-arrow\">StandardScaler</label><div class=\"sk-toggleable__content\"><pre>StandardScaler()</pre></div></div></div></div></div></div></div></div></div></div><div class=\"sk-item\"><div class=\"sk-estimator sk-toggleable\"><input class=\"sk-toggleable__control sk-hidden--visually\" id=\"sk-estimator-id-9\" type=\"checkbox\" ><label for=\"sk-estimator-id-9\" class=\"sk-toggleable__label sk-toggleable__label-arrow\">LogisticRegression</label><div class=\"sk-toggleable__content\"><pre>LogisticRegression(max_iter=800, penalty=&#x27;l1&#x27;, random_state=42,\n",
              "                   solver=&#x27;liblinear&#x27;)</pre></div></div></div></div></div></div></div>"
            ],
            "text/plain": [
              "Pipeline(steps=[('pipeline',\n",
              "                 ColumnTransformer(transformers=[('text',\n",
              "                                                  Pipeline(steps=[('tfidf',\n",
              "                                                                   TfidfVectorizer(max_features=15000))]),\n",
              "                                                  'reviewText'),\n",
              "                                                 ('categorical',\n",
              "                                                  Pipeline(steps=[('encoder',\n",
              "                                                                   OrdinalEncoder(handle_unknown='use_encoded_value',\n",
              "                                                                                  unknown_value=-1))]),\n",
              "                                                  ['genre', 'ratingContents',\n",
              "                                                   'director']),\n",
              "                                                 ('numerical',\n",
              "                                                  Pipeline(steps=[('scaler',\n",
              "                                                                   StandardScaler())]),\n",
              "                                                  ['audienceScore'])])),\n",
              "                ('classifier',\n",
              "                 LogisticRegression(max_iter=800, penalty='l1', random_state=42,\n",
              "                                    solver='liblinear'))])"
            ]
          },
          "execution_count": 39,
          "metadata": {},
          "output_type": "execute_result"
        }
      ],
      "source": [
        "best_model"
      ]
    },
    {
      "cell_type": "code",
      "execution_count": null,
      "id": "b3f4891d",
      "metadata": {
        "execution": {
          "iopub.execute_input": "2023-08-13T16:51:24.067727Z",
          "iopub.status.busy": "2023-08-13T16:51:24.067345Z",
          "iopub.status.idle": "2023-08-13T16:51:26.007196Z",
          "shell.execute_reply": "2023-08-13T16:51:26.006138Z"
        },
        "papermill": {
          "duration": 1.964786,
          "end_time": "2023-08-13T16:51:26.009875",
          "exception": false,
          "start_time": "2023-08-13T16:51:24.045089",
          "status": "completed"
        },
        "tags": [],
        "id": "b3f4891d"
      },
      "outputs": [],
      "source": [
        "# Transform the new test data using the preprocessor within the best model\n",
        "X_test_new = best_model.named_steps['pipeline'].transform(test)"
      ]
    },
    {
      "cell_type": "code",
      "execution_count": null,
      "id": "5d597016",
      "metadata": {
        "execution": {
          "iopub.execute_input": "2023-08-13T16:51:26.054856Z",
          "iopub.status.busy": "2023-08-13T16:51:26.053866Z",
          "iopub.status.idle": "2023-08-13T16:51:26.063442Z",
          "shell.execute_reply": "2023-08-13T16:51:26.062389Z"
        },
        "papermill": {
          "duration": 0.034168,
          "end_time": "2023-08-13T16:51:26.065982",
          "exception": false,
          "start_time": "2023-08-13T16:51:26.031814",
          "status": "completed"
        },
        "tags": [],
        "id": "5d597016"
      },
      "outputs": [],
      "source": [
        "# Make predictions on the test data using the best model\n",
        "y_pred_test = best_model.named_steps['classifier'].predict(X_test_new)"
      ]
    },
    {
      "cell_type": "markdown",
      "id": "5ed8e6ca",
      "metadata": {
        "papermill": {
          "duration": 0.020174,
          "end_time": "2023-08-13T16:51:26.106935",
          "exception": false,
          "start_time": "2023-08-13T16:51:26.086761",
          "status": "completed"
        },
        "tags": [],
        "id": "5ed8e6ca"
      },
      "source": [
        "# Evaluation Metrics"
      ]
    },
    {
      "cell_type": "code",
      "execution_count": null,
      "id": "795d9ebf",
      "metadata": {
        "execution": {
          "iopub.execute_input": "2023-08-13T16:51:26.149902Z",
          "iopub.status.busy": "2023-08-13T16:51:26.149521Z",
          "iopub.status.idle": "2023-08-13T16:51:26.217510Z",
          "shell.execute_reply": "2023-08-13T16:51:26.216424Z"
        },
        "papermill": {
          "duration": 0.0926,
          "end_time": "2023-08-13T16:51:26.220145",
          "exception": false,
          "start_time": "2023-08-13T16:51:26.127545",
          "status": "completed"
        },
        "tags": [],
        "id": "795d9ebf",
        "outputId": "b4884dda-6e42-4512-e3cb-5019e552a9e0"
      },
      "outputs": [
        {
          "name": "stdout",
          "output_type": "stream",
          "text": [
            "              precision    recall  f1-score   support\n",
            "\n",
            "    POSITIVE       0.75      0.60      0.67     10696\n",
            "    NEGATIVE       0.82      0.90      0.86     21856\n",
            "\n",
            "    accuracy                           0.80     32552\n",
            "   macro avg       0.78      0.75      0.76     32552\n",
            "weighted avg       0.80      0.80      0.80     32552\n",
            "\n"
          ]
        }
      ],
      "source": [
        "from sklearn.metrics import classification_report\n",
        "\n",
        "# Generate the classification report\n",
        "class_names = ['POSITIVE', 'NEGATIVE']\n",
        "report = classification_report(y_test, y_pred, target_names=class_names)\n",
        "\n",
        "print(report)"
      ]
    },
    {
      "cell_type": "code",
      "execution_count": null,
      "id": "2691bc0c",
      "metadata": {
        "execution": {
          "iopub.execute_input": "2023-08-13T16:51:26.263461Z",
          "iopub.status.busy": "2023-08-13T16:51:26.263034Z",
          "iopub.status.idle": "2023-08-13T16:51:26.471256Z",
          "shell.execute_reply": "2023-08-13T16:51:26.470073Z"
        },
        "papermill": {
          "duration": 0.232779,
          "end_time": "2023-08-13T16:51:26.473599",
          "exception": false,
          "start_time": "2023-08-13T16:51:26.240820",
          "status": "completed"
        },
        "tags": [],
        "id": "2691bc0c",
        "outputId": "19fa33ff-a4e1-4755-9257-b325f4bb845b"
      },
      "outputs": [
        {
          "data": {
            "image/png": "[encoded data removed]",
            "text/plain": [
              "<Figure size 800x600 with 1 Axes>"
            ]
          },
          "metadata": {},
          "output_type": "display_data"
        }
      ],
      "source": [
        "from sklearn.metrics import confusion_matrix\n",
        "\n",
        "# Calculate the confusion matrix\n",
        "cm = confusion_matrix(y_test, y_pred)\n",
        "\n",
        "# Create a heatmap of the confusion matrix using seaborn\n",
        "plt.figure(figsize=(8, 6))\n",
        "sns.heatmap(cm, annot=True, cmap=\"Blues\", fmt=\"d\", cbar=False)\n",
        "plt.xlabel(\"Predicted\")\n",
        "plt.ylabel(\"True\")\n",
        "plt.title(\"Confusion Matrix\")\n",
        "plt.show()"
      ]
    },
    {
      "cell_type": "markdown",
      "id": "134fe47d",
      "metadata": {
        "papermill": {
          "duration": 0.020716,
          "end_time": "2023-08-13T16:51:26.515402",
          "exception": false,
          "start_time": "2023-08-13T16:51:26.494686",
          "status": "completed"
        },
        "tags": [],
        "id": "134fe47d"
      },
      "source": [
        "# Model Comparision"
      ]
    },
    {
      "cell_type": "code",
      "execution_count": null,
      "id": "6321c986",
      "metadata": {
        "execution": {
          "iopub.execute_input": "2023-08-13T16:51:26.560564Z",
          "iopub.status.busy": "2023-08-13T16:51:26.559818Z",
          "iopub.status.idle": "2023-08-13T16:51:27.067549Z",
          "shell.execute_reply": "2023-08-13T16:51:27.066389Z"
        },
        "papermill": {
          "duration": 0.534019,
          "end_time": "2023-08-13T16:51:27.070490",
          "exception": false,
          "start_time": "2023-08-13T16:51:26.536471",
          "status": "completed"
        },
        "tags": [],
        "id": "6321c986",
        "outputId": "9341c816-b9f7-498a-8d41-d2c1243e0619"
      },
      "outputs": [
        {
          "data": {
            "image/png": "[encoded data removed]",
            "text/plain": [
              "<Figure size 1000x600 with 1 Axes>"
            ]
          },
          "metadata": {},
          "output_type": "display_data"
        }
      ],
      "source": [
        "import matplotlib.pyplot as plt\n",
        "import seaborn as sns\n",
        "\n",
        "# f1 scores\n",
        "f1_scores = [0.80347, 0.8001, 0.7549]\n",
        "\n",
        "# Model names\n",
        "model_names = ['Logistic Regression', 'XGBoost', 'Random Forest']\n",
        "\n",
        "# Set style using Seaborn\n",
        "sns.set(style='whitegrid')\n",
        "\n",
        "# Create the bar plot\n",
        "plt.figure(figsize=(10, 6))\n",
        "bars = plt.barh(model_names, f1_scores, color='skyblue')\n",
        "\n",
        "# Add data labels to the bars\n",
        "for bar in bars:\n",
        "    width = bar.get_width()\n",
        "    plt.text(width, bar.get_y() + bar.get_height() / 2, f'{width:.3f}', ha='left', va='center')\n",
        "\n",
        "# Remove spines\n",
        "sns.despine()\n",
        "\n",
        "# Add labels and title\n",
        "plt.xlabel('f1 Score')\n",
        "plt.ylabel('Model')\n",
        "plt.title('f1 Scores of classification Models')\n",
        "\n",
        "# Adjust layout\n",
        "plt.tight_layout()\n",
        "\n",
        "# Show the plot\n",
        "plt.show()"
      ]
    },
    {
      "cell_type": "markdown",
      "id": "6e3d8294",
      "metadata": {
        "papermill": {
          "duration": 0.021475,
          "end_time": "2023-08-13T16:51:27.113740",
          "exception": false,
          "start_time": "2023-08-13T16:51:27.092265",
          "status": "completed"
        },
        "tags": [],
        "id": "6e3d8294"
      },
      "source": [
        "# Inference"
      ]
    },
    {
      "cell_type": "markdown",
      "id": "e8be5780",
      "metadata": {
        "papermill": {
          "duration": 0.021229,
          "end_time": "2023-08-13T16:51:27.156804",
          "exception": false,
          "start_time": "2023-08-13T16:51:27.135575",
          "status": "completed"
        },
        "tags": [],
        "id": "e8be5780"
      },
      "source": [
        "1. Logistic Regression after performing some Hyperparameter tuning gave best results among other models.\n",
        "\n",
        "2. Overall Model Performance: The logistic regression model with hyperparameter tuning achieved an accuracy of 80% on the test data. This means that 80% of the predictions made by the model were correct.\n",
        "\n",
        "3. Precision and Recall: The precision for the \"POSITIVE\" class is 0.75, indicating that when the model predicts a review as \"POSITIVE,\" it is correct 75% of the time. The recall for the \"POSITIVE\" class is 0.60, suggesting that the model identifies only 60% of the actual \"POSITIVE\" reviews. Similarly, for the \"NEGATIVE\" class, the precision is 0.82 (correct 82% of the time) and the recall is 0.90 (identifies 90% of actual \"NEGATIVE\" reviews).\n",
        "\n",
        "4. F1-Score: The F1-score is a metric that balances precision and recall. The weighted average F1-score is 0.80, which is a measure of the model's overall performance across both classes."
      ]
    },
    {
      "cell_type": "markdown",
      "id": "1bd0cbcc",
      "metadata": {
        "papermill": {
          "duration": 0.021253,
          "end_time": "2023-08-13T16:51:27.199678",
          "exception": false,
          "start_time": "2023-08-13T16:51:27.178425",
          "status": "completed"
        },
        "tags": [],
        "id": "1bd0cbcc"
      },
      "source": [
        "# Submission"
      ]
    },
    {
      "cell_type": "code",
      "execution_count": null,
      "id": "1f885648",
      "metadata": {
        "execution": {
          "iopub.execute_input": "2023-08-13T16:51:27.245127Z",
          "iopub.status.busy": "2023-08-13T16:51:27.244142Z",
          "iopub.status.idle": "2023-08-13T16:51:27.406530Z",
          "shell.execute_reply": "2023-08-13T16:51:27.405416Z"
        },
        "papermill": {
          "duration": 0.18861,
          "end_time": "2023-08-13T16:51:27.409853",
          "exception": false,
          "start_time": "2023-08-13T16:51:27.221243",
          "status": "completed"
        },
        "tags": [],
        "id": "1f885648"
      },
      "outputs": [],
      "source": [
        "# Save the predictions to a CSV file\n",
        "submission = pd.DataFrame({\n",
        "    'id': range(len(test)),  # Create the 'id' column starting with 0\n",
        "    'sentiment': y_pred_test  # Add the predicted sentiment values\n",
        "})\n",
        "submission['sentiment'] = submission['sentiment'].map({1: 'POSITIVE', 0: 'NEGATIVE'})\n",
        "submission.to_csv('submission.csv', index=False)"
      ]
    }
  ],
  "metadata": {
    "kernelspec": {
      "display_name": "Python 3",
      "language": "python",
      "name": "python3"
    },
    "language_info": {
      "codemirror_mode": {
        "name": "ipython",
        "version": 3
      },
      "file_extension": ".py",
      "mimetype": "text/x-python",
      "name": "python",
      "nbconvert_exporter": "python",
      "pygments_lexer": "ipython3",
      "version": "3.10.10"
    },
    "papermill": {
      "default_parameters": {},
      "duration": 811.825211,
      "end_time": "2023-08-13T16:51:28.557242",
      "environment_variables": {},
      "exception": null,
      "input_path": "__notebook__.ipynb",
      "output_path": "__notebook__.ipynb",
      "parameters": {},
      "start_time": "2023-08-13T16:37:56.732031",
      "version": "2.4.0"
    },
    "colab": {
      "provenance": [],
      "include_colab_link": true
    }
  },
  "nbformat": 4,
  "nbformat_minor": 5
}